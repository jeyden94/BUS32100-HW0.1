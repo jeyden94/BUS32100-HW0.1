{
 "cells": [
  {
   "cell_type": "markdown",
   "metadata": {},
   "source": [
    "# BUS32100, HW 0\n",
    "\n",
    "Please follow the directions on Canvas for how to download/upload your homework. Keep your output displayed to make grading easier for us! "
   ]
  },
  {
   "cell_type": "markdown",
   "metadata": {},
   "source": [
    "### 1) Lists in Python"
   ]
  },
  {
   "cell_type": "markdown",
   "metadata": {},
   "source": [
    "### 1a"
   ]
  },
  {
   "cell_type": "code",
   "execution_count": 19,
   "metadata": {},
   "outputs": [
    {
     "name": "stdout",
     "output_type": "stream",
     "text": [
      "not bean bean 5\n"
     ]
    }
   ],
   "source": [
    "# todo: create several variables in Python\n",
    "\n",
    "bean = \"not bean\"\n",
    "not_bean = \"bean\"\n",
    "x = 5\n",
    "\n",
    "print(bean, not_bean, x)"
   ]
  },
  {
   "cell_type": "markdown",
   "metadata": {},
   "source": [
    "### 1b"
   ]
  },
  {
   "cell_type": "code",
   "execution_count": 20,
   "metadata": {},
   "outputs": [
    {
     "name": "stdout",
     "output_type": "stream",
     "text": [
      "[2, 3, 5, 7, 11, 13, 17, 19, 23, 29, 31] [2, 'three', True, 7.3, 'eleven']\n"
     ]
    }
   ],
   "source": [
    "# todo: create several lists in Python, some with homogenous types and some with heterogenous types\n",
    "\n",
    "my_list1 = [2, 3, 5, 7, 11, 13, 17, 19, 23, 29, 31]\n",
    "my_list2 = [2, \"three\", True, 7.3, \"eleven\"]\n",
    "\n",
    "print(my_list1, my_list2)"
   ]
  },
  {
   "cell_type": "markdown",
   "metadata": {},
   "source": [
    "### 1c"
   ]
  },
  {
   "cell_type": "code",
   "execution_count": 18,
   "metadata": {},
   "outputs": [
    {
     "name": "stdout",
     "output_type": "stream",
     "text": [
      "[5, 7, 11, 13, 17]\n"
     ]
    }
   ],
   "source": [
    "# todo: return a slice from one of your Python lists (slice can be any length you choose. experiment!)\n",
    "\n",
    "slice = my_list1[2:7]\n",
    "\n",
    "print(slice)"
   ]
  },
  {
   "cell_type": "markdown",
   "metadata": {},
   "source": [
    "### 1d"
   ]
  },
  {
   "cell_type": "code",
   "execution_count": 43,
   "metadata": {},
   "outputs": [
    {
     "name": "stdout",
     "output_type": "stream",
     "text": [
      "[5, 13, 23]\n"
     ]
    }
   ],
   "source": [
    "# todo: return a slice of a list but only return every third element\n",
    "\n",
    "my_list1 = [2, 3, 5, 7, 11, 13, 17, 19, 23, 29, 31]\n",
    "\n",
    "new_slice = []\n",
    "\n",
    "for index in range(len(my_list1)):\n",
    "    if index % 3 == 2:\n",
    "        new_slice.append(my_list1[index])\n",
    "   \n",
    "print(new_slice)"
   ]
  },
  {
   "cell_type": "markdown",
   "metadata": {},
   "source": [
    "## 2) If-Else statements in Python"
   ]
  },
  {
   "cell_type": "markdown",
   "metadata": {},
   "source": [
    "### 2a"
   ]
  },
  {
   "cell_type": "code",
   "execution_count": 26,
   "metadata": {},
   "outputs": [
    {
     "name": "stdout",
     "output_type": "stream",
     "text": [
      "True\n"
     ]
    }
   ],
   "source": [
    "# todo: write an if-else statement using only an if and an else clause\n",
    "\n",
    "my_other_list = [0, 1, 2, 3, 4, 5, 6, 7, 8, 9]\n",
    "\n",
    "def function(input):\n",
    "    if len(input) > 2:\n",
    "        return True\n",
    "    else:\n",
    "        return False\n",
    "\n",
    "print(function(my_other_list))"
   ]
  },
  {
   "cell_type": "markdown",
   "metadata": {},
   "source": [
    "### 2b"
   ]
  },
  {
   "cell_type": "code",
   "execution_count": 28,
   "metadata": {},
   "outputs": [
    {
     "name": "stdout",
     "output_type": "stream",
     "text": [
      "False\n"
     ]
    }
   ],
   "source": [
    "# todo: write an if-else statement but using an if, elif, and else clauses\n",
    "\n",
    "my_other_list = [0, 1, 2, 3, 4, 5, 6, 7, 8, 9]\n",
    "\n",
    "def function(input):\n",
    "    if len(input) <= 2:\n",
    "        return True\n",
    "    elif 5 >= len(input) > 2:\n",
    "        return True\n",
    "    else:\n",
    "        return False\n",
    "\n",
    "print(function(my_other_list))"
   ]
  },
  {
   "cell_type": "markdown",
   "metadata": {},
   "source": [
    "## 3) Functions in Python"
   ]
  },
  {
   "cell_type": "markdown",
   "metadata": {},
   "source": [
    "### 3a"
   ]
  },
  {
   "cell_type": "code",
   "execution_count": 31,
   "metadata": {},
   "outputs": [
    {
     "name": "stdout",
     "output_type": "stream",
     "text": [
      "4\n"
     ]
    }
   ],
   "source": [
    "# todo: write a function that takes in two integers and prints out which one is larger\n",
    "\n",
    "def new_function(x, y):\n",
    "    print(max(x, y))\n",
    "\n",
    "new_function(2, 4)"
   ]
  },
  {
   "cell_type": "markdown",
   "metadata": {},
   "source": [
    "### 3b"
   ]
  },
  {
   "cell_type": "code",
   "execution_count": 46,
   "metadata": {},
   "outputs": [
    {
     "name": "stdout",
     "output_type": "stream",
     "text": [
      "murder\n"
     ]
    }
   ],
   "source": [
    "# todo: write a function that takes in a string and prints out the characters in backwards order\n",
    "\n",
    "my_string = \"redrum\"\n",
    "\n",
    "def danny_boy(string):\n",
    "    all_work_no_play = []\n",
    "    for index in range(len(string)):\n",
    "        all_work_no_play.append(string[index * (- 1) -1])\n",
    "    return \"\".join(all_work_no_play)\n",
    "\n",
    "print(danny_boy(my_string))"
   ]
  },
  {
   "cell_type": "markdown",
   "metadata": {},
   "source": [
    "### 3c"
   ]
  },
  {
   "cell_type": "code",
   "execution_count": 26,
   "metadata": {},
   "outputs": [
    {
     "name": "stdout",
     "output_type": "stream",
     "text": [
      "H*ll* there world I *m J*ck. I'm pl**s*d to m*et yo*. *s this s*veral s*ntences yet?\n"
     ]
    }
   ],
   "source": [
    "# todo: write a function that takes in a long string (several sentences) and *returns* the string (doesn't print it out)\n",
    "# with random vowels replaced with '*' to make it look hilariously censored\n",
    "# you can replace all vowels or only some vowels, up to you\n",
    "\n",
    "long_string = (\"Hello there world I am Jack. I'm pleased to meet you. Is this several sentences yet?\")\n",
    "\n",
    "def randomizer(string):\n",
    "    vowels = 'aeiouAEIOU'\n",
    "    censored_text = \"\"\n",
    "    for n in string:\n",
    "        if n in vowels and random.choice([True, False]):\n",
    "            censored_text += \"*\"\n",
    "        else:\n",
    "            censored_text += n\n",
    "    return censored_text\n",
    "            \n",
    "print(randomizer(long_string))"
   ]
  },
  {
   "cell_type": "markdown",
   "metadata": {},
   "source": [
    "### 3d"
   ]
  },
  {
   "cell_type": "code",
   "execution_count": 2,
   "metadata": {},
   "outputs": [
    {
     "name": "stdout",
     "output_type": "stream",
     "text": [
      "['Hello', 'there', 'world', 'Jack']\n"
     ]
    }
   ],
   "source": [
    "# todo: Write a function that:\n",
    "# Takes in two inputs: a list of words and an integer n\n",
    "# Returns a new list containing only the words that have a length greater than or equal to n\n",
    "\n",
    "test_list = [\"Hello\", \"there\", \"world\", \"I\", \"am\", \"Jack\"]\n",
    "n = 3\n",
    "\n",
    "def best_function(words, n):\n",
    "    long_words = []\n",
    "    for word in words:\n",
    "        if len(word) > n:\n",
    "            long_words.append(word)\n",
    "    return long_words\n",
    "\n",
    "print(best_function(test_list, n))"
   ]
  },
  {
   "cell_type": "markdown",
   "metadata": {},
   "source": [
    "## 3e"
   ]
  },
  {
   "cell_type": "code",
   "execution_count": 39,
   "metadata": {},
   "outputs": [
    {
     "name": "stdout",
     "output_type": "stream",
     "text": [
      "[0, 2, 4, 6, 8]\n",
      "[1, 3, 5, 7, 9]\n"
     ]
    }
   ],
   "source": [
    "# todo: Write a function that:\n",
    "# Takes in a list of integers\n",
    "# Returns two lists: one list with all the even numbers, and one list with all the odd numbers\n",
    "\n",
    "def separator(integer_list):\n",
    "    even_numbers = []\n",
    "    odd_numbers = []\n",
    "    for n in integer_list:\n",
    "        if n % 2 == 0:\n",
    "            even_numbers.append(n)\n",
    "        else:\n",
    "            odd_numbers.append(n)\n",
    "    return even_numbers, odd_numbers\n",
    "\n",
    "list_of_numbers = [0, 1, 2, 3, 4, 5, 6, 7, 8, 9]\n",
    "results1, results2 = separator(list_of_numbers)\n",
    "\n",
    "print(results1)\n",
    "print(results2)"
   ]
  }
 ],
 "metadata": {
  "kernelspec": {
   "display_name": "Python 3 (ipykernel)",
   "language": "python",
   "name": "python3"
  },
  "language_info": {
   "codemirror_mode": {
    "name": "ipython",
    "version": 3
   },
   "file_extension": ".py",
   "mimetype": "text/x-python",
   "name": "python",
   "nbconvert_exporter": "python",
   "pygments_lexer": "ipython3",
   "version": "3.11.9"
  }
 },
 "nbformat": 4,
 "nbformat_minor": 4
}
